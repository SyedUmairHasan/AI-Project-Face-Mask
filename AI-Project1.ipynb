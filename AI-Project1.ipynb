{
 "cells": [
  {
   "cell_type": "code",
   "execution_count": 1,
   "metadata": {},
   "outputs": [],
   "source": [
    "import cv2\n",
    "import numpy as np\n",
    "import matplotlib.pyplot as plt"
   ]
  },
  {
   "cell_type": "code",
   "execution_count": 3,
   "metadata": {},
   "outputs": [],
   "source": [
    "# Read the image on which we want to apply face detection\n",
    "image = cv2.imread('media/M4/john1.jpg')\n",
    "\n",
    "# Initilizing the haar classifier with the face detector model\n",
    "face_cascade = cv2.CascadeClassifier('media/M4/haarcascade_frontalface_default.xml')  \n"
   ]
  },
  {
   "cell_type": "code",
   "execution_count": 4,
   "metadata": {},
   "outputs": [],
   "source": [
    "def transfer_2(image, replacement_face, returnimage=False, expand=45,thresh=180):\n",
    "\n",
    "    # perform the detection , here we are using 1.3 scale factor and 5 min neighbours\n",
    "    faces = face_cascade.detectMultiScale(image, 1.3, 5)    \n",
    "    for (x,y,w,h) in faces:\n",
    "        \n",
    "        # Since our original face_replacement image is small we expand it by a custom value\n",
    "        w= w+expand                                         \n",
    "        h= h+expand    \n",
    "        \n",
    "        # Since we just increased our original w,h by add expand we must now center the image  \n",
    "        x = int(x-(expand/2))                                 \n",
    "        y = int(y-(expand/2))                                 \n",
    "            \n",
    "        replacement_face_copy = cv2.resize(replacement_face, (w,h))  \n",
    "        rows,cols,channels =  replacement_face_copy.shape\n",
    "        roi = image[y:y+h, x:x+w]\n",
    "        img2gray = cv2.cvtColor(replacement_face_copy,cv2.COLOR_BGR2GRAY)\n",
    "        ret, mask = cv2.threshold(img2gray, thresh, 255, cv2.THRESH_BINARY)\n",
    "        mask_inv = cv2.bitwise_not(mask)\n",
    "        \n",
    "        # This is to handle faces going out of the boundry cause they will throw an error\n",
    "        try:\n",
    "            img_bg = cv2.bitwise_and(roi,roi,mask = mask)\n",
    "        except:\n",
    "            continue\n",
    "        img_fg = cv2.bitwise_and(replacement_face_copy,replacement_face_copy,mask = mask_inv)\n",
    "        combined = cv2.add(img_bg,img_fg)\n",
    "        image[y:y+h, x:x+w] = combined\n",
    "        \n",
    "\n",
    "    if returnimage:\n",
    "        return image\n",
    "    else:\n",
    "        cv2.imshow('img',image)\n",
    "        cv2.waitKey(0)\n",
    "        cv2.destroyAllWindows()"
   ]
  },
  {
   "cell_type": "code",
   "execution_count": 5,
   "metadata": {},
   "outputs": [],
   "source": [
    "replacement_face = cv2.imread('media/M4/thejoker.jpg')\n",
    "cap = cv2.VideoCapture(0)\n",
    "\n",
    "while 1:\n",
    "        ret, img = cap.read()\n",
    "        img = transfer_2(img,  replacement_face, returnimage = True,expand=100,thresh=240)\n",
    "        img = cv2.flip(img, 1)\n",
    "        \n",
    "        cv2.imshow('img',img)\n",
    "        k = cv2.waitKey(1) \n",
    "        if k == ord('q'):\n",
    "            break\n",
    "cap.release()\n",
    "cv2.destroyAllWindows()"
   ]
  },
  {
   "cell_type": "code",
   "execution_count": null,
   "metadata": {},
   "outputs": [],
   "source": []
  }
 ],
 "metadata": {
  "kernelspec": {
   "display_name": "Python 3",
   "language": "python",
   "name": "python3"
  },
  "language_info": {
   "codemirror_mode": {
    "name": "ipython",
    "version": 3
   },
   "file_extension": ".py",
   "mimetype": "text/x-python",
   "name": "python",
   "nbconvert_exporter": "python",
   "pygments_lexer": "ipython3",
   "version": "3.8.0"
  }
 },
 "nbformat": 4,
 "nbformat_minor": 4
}
